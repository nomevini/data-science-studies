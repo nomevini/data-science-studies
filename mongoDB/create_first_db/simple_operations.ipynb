{
 "cells": [
  {
   "cell_type": "markdown",
   "metadata": {},
   "source": [
    "### MongoDB"
   ]
  },
  {
   "cell_type": "code",
   "execution_count": 2,
   "metadata": {},
   "outputs": [],
   "source": [
    "# Importando o cliente do mongo\n",
    "from pymongo import MongoClient"
   ]
  },
  {
   "cell_type": "code",
   "execution_count": 3,
   "metadata": {},
   "outputs": [],
   "source": [
    "# Criando uma conexão\n",
    "\n",
    "# Quando não é especificado o host e a porta, \n",
    "# é utilizado o padrão \"localhost\" e \"27017\"\n",
    "con = MongoClient()"
   ]
  },
  {
   "cell_type": "code",
   "execution_count": 4,
   "metadata": {},
   "outputs": [
    {
     "data": {
      "text/plain": [
       "['admin', 'banco_do_brasil', 'config', 'local']"
      ]
     },
     "execution_count": 4,
     "metadata": {},
     "output_type": "execute_result"
    }
   ],
   "source": [
    "# Verificar quais são os bancos disponiveis\n",
    "con.list_database_names()"
   ]
  },
  {
   "cell_type": "code",
   "execution_count": 5,
   "metadata": {},
   "outputs": [],
   "source": [
    "# criar um bando de dados Mongo (só é criado ao adicionar algo)\n",
    "db = con.banco_do_brasil"
   ]
  },
  {
   "cell_type": "code",
   "execution_count": 57,
   "metadata": {},
   "outputs": [
    {
     "data": {
      "text/plain": [
       "['usuario']"
      ]
     },
     "execution_count": 57,
     "metadata": {},
     "output_type": "execute_result"
    }
   ],
   "source": [
    "# listar as coleções dentro do Banco\n",
    "db.list_collection_names()"
   ]
  },
  {
   "cell_type": "code",
   "execution_count": 7,
   "metadata": {},
   "outputs": [
    {
     "ename": "CollectionInvalid",
     "evalue": "collection usuario already exists",
     "output_type": "error",
     "traceback": [
      "\u001b[0;31m---------------------------------------------------------------------------\u001b[0m",
      "\u001b[0;31mCollectionInvalid\u001b[0m                         Traceback (most recent call last)",
      "Cell \u001b[0;32mIn [7], line 2\u001b[0m\n\u001b[1;32m      1\u001b[0m \u001b[39m# criando uma coleção\u001b[39;00m\n\u001b[0;32m----> 2\u001b[0m db\u001b[39m.\u001b[39;49mcreate_collection(\u001b[39m'\u001b[39;49m\u001b[39musuario\u001b[39;49m\u001b[39m'\u001b[39;49m)\n",
      "File \u001b[0;32m~/anaconda3/envs/data_science/lib/python3.10/site-packages/pymongo/_csot.py:105\u001b[0m, in \u001b[0;36mapply.<locals>.csot_wrapper\u001b[0;34m(self, *args, **kwargs)\u001b[0m\n\u001b[1;32m    103\u001b[0m         \u001b[39mwith\u001b[39;00m _TimeoutContext(timeout):\n\u001b[1;32m    104\u001b[0m             \u001b[39mreturn\u001b[39;00m func(\u001b[39mself\u001b[39m, \u001b[39m*\u001b[39margs, \u001b[39m*\u001b[39m\u001b[39m*\u001b[39mkwargs)\n\u001b[0;32m--> 105\u001b[0m \u001b[39mreturn\u001b[39;00m func(\u001b[39mself\u001b[39;49m, \u001b[39m*\u001b[39;49margs, \u001b[39m*\u001b[39;49m\u001b[39m*\u001b[39;49mkwargs)\n",
      "File \u001b[0;32m~/anaconda3/envs/data_science/lib/python3.10/site-packages/pymongo/database.py:447\u001b[0m, in \u001b[0;36mDatabase.create_collection\u001b[0;34m(self, name, codec_options, read_preference, write_concern, read_concern, session, check_exists, **kwargs)\u001b[0m\n\u001b[1;32m    439\u001b[0m \u001b[39mwith\u001b[39;00m \u001b[39mself\u001b[39m\u001b[39m.\u001b[39m__client\u001b[39m.\u001b[39m_tmp_session(session) \u001b[39mas\u001b[39;00m s:\n\u001b[1;32m    440\u001b[0m     \u001b[39m# Skip this check in a transaction where listCollections is not\u001b[39;00m\n\u001b[1;32m    441\u001b[0m     \u001b[39m# supported.\u001b[39;00m\n\u001b[1;32m    442\u001b[0m     \u001b[39mif\u001b[39;00m (\n\u001b[1;32m    443\u001b[0m         check_exists\n\u001b[1;32m    444\u001b[0m         \u001b[39mand\u001b[39;00m (\u001b[39mnot\u001b[39;00m s \u001b[39mor\u001b[39;00m \u001b[39mnot\u001b[39;00m s\u001b[39m.\u001b[39min_transaction)\n\u001b[1;32m    445\u001b[0m         \u001b[39mand\u001b[39;00m name \u001b[39min\u001b[39;00m \u001b[39mself\u001b[39m\u001b[39m.\u001b[39mlist_collection_names(\u001b[39mfilter\u001b[39m\u001b[39m=\u001b[39m{\u001b[39m\"\u001b[39m\u001b[39mname\u001b[39m\u001b[39m\"\u001b[39m: name}, session\u001b[39m=\u001b[39ms)\n\u001b[1;32m    446\u001b[0m     ):\n\u001b[0;32m--> 447\u001b[0m         \u001b[39mraise\u001b[39;00m CollectionInvalid(\u001b[39m\"\u001b[39m\u001b[39mcollection \u001b[39m\u001b[39m%s\u001b[39;00m\u001b[39m already exists\u001b[39m\u001b[39m\"\u001b[39m \u001b[39m%\u001b[39m name)\n\u001b[1;32m    448\u001b[0m     \u001b[39mreturn\u001b[39;00m Collection(\n\u001b[1;32m    449\u001b[0m         \u001b[39mself\u001b[39m,\n\u001b[1;32m    450\u001b[0m         name,\n\u001b[0;32m   (...)\u001b[0m\n\u001b[1;32m    457\u001b[0m         \u001b[39m*\u001b[39m\u001b[39m*\u001b[39mkwargs,\n\u001b[1;32m    458\u001b[0m     )\n",
      "\u001b[0;31mCollectionInvalid\u001b[0m: collection usuario already exists"
     ]
    }
   ],
   "source": [
    "# criando uma coleção\n",
    "db.create_collection('usuario')"
   ]
  },
  {
   "cell_type": "code",
   "execution_count": 8,
   "metadata": {},
   "outputs": [],
   "source": [
    "user = {\n",
    "    'nome': 'Vinícius de Sousa Carvalho',\n",
    "    'idade': 20,\n",
    "    'email': 'sousav387@gmail.com'\n",
    "}"
   ]
  },
  {
   "cell_type": "code",
   "execution_count": 9,
   "metadata": {},
   "outputs": [],
   "source": [
    "user2 = {\n",
    "    'nome': 'Raglicia Sandi Ribeiro de Sousa',\n",
    "    'idade': 19,\n",
    "    'email': 'ragliciasandi@gmail.com'\n",
    "}"
   ]
  },
  {
   "cell_type": "code",
   "execution_count": 11,
   "metadata": {},
   "outputs": [
    {
     "data": {
      "text/plain": [
       "<pymongo.results.InsertOneResult at 0x7f2cdccc0df0>"
      ]
     },
     "execution_count": 11,
     "metadata": {},
     "output_type": "execute_result"
    }
   ],
   "source": [
    "db.usuario.insert_one(user)"
   ]
  },
  {
   "cell_type": "code",
   "execution_count": null,
   "metadata": {},
   "outputs": [],
   "source": [
    "db.usuario.insert_one(user2)"
   ]
  },
  {
   "cell_type": "markdown",
   "metadata": {},
   "source": [
    "Recuperar um dado do banco"
   ]
  },
  {
   "cell_type": "code",
   "execution_count": 12,
   "metadata": {},
   "outputs": [
    {
     "data": {
      "text/plain": [
       "{'_id': ObjectId('635418dba2f95630fdc346be'),\n",
       " 'nome': 'Vinícius de Sousa Carvalho',\n",
       " 'idade': 21,\n",
       " 'email': 'sousav387@gmail.com'}"
      ]
     },
     "execution_count": 12,
     "metadata": {},
     "output_type": "execute_result"
    }
   ],
   "source": [
    "# encontrar um dado\n",
    "db.usuario.find_one()"
   ]
  },
  {
   "cell_type": "code",
   "execution_count": 13,
   "metadata": {},
   "outputs": [],
   "source": [
    "# usando o metodo find para encontrar um dado\n",
    "# filtrando pela idade\n",
    "\n",
    "# ele retorna um cursor\n",
    "cursor = db.usuario.find({ 'idade': 20 })"
   ]
  },
  {
   "cell_type": "code",
   "execution_count": 55,
   "metadata": {},
   "outputs": [],
   "source": [
    "# retornando todos os dados da colecao\n",
    "cursor = db.usuario.find({})"
   ]
  },
  {
   "cell_type": "code",
   "execution_count": 56,
   "metadata": {},
   "outputs": [
    {
     "name": "stdout",
     "output_type": "stream",
     "text": [
      "{'_id': ObjectId('6354217e36d2b8da62261f80'), 'nome': 'Raglicia Sandi Ribeiro de Sousa', 'idade': 19, 'email': 'ragliciasandi@gmail.com'}\n",
      "{'_id': ObjectId('6354218336d2b8da62261f81'), 'nome': 'Vinícius de Sousa Carvalho', 'idade': 21, 'email': 'sousav387@gmail.com'}\n"
     ]
    }
   ],
   "source": [
    "for x in cursor:\n",
    "    print(x)"
   ]
  },
  {
   "cell_type": "markdown",
   "metadata": {},
   "source": [
    "Modificar um dado no banco"
   ]
  },
  {
   "cell_type": "code",
   "execution_count": 38,
   "metadata": {},
   "outputs": [
    {
     "data": {
      "text/plain": [
       "<pymongo.results.UpdateResult at 0x7f2cdccc1b70>"
      ]
     },
     "execution_count": 38,
     "metadata": {},
     "output_type": "execute_result"
    }
   ],
   "source": [
    "# modificar um dado\n",
    "# 1 - Recebe primeiro a query (condição paara encontrar)\n",
    "# 2 - O dado para ser alterado (usando $set)\n",
    "db.usuario.update_one(\n",
    "    { 'idade': 20}, \n",
    "    {\n",
    "        '$set': \n",
    "        {\n",
    "            'idade': 21\n",
    "        }\n",
    "    }\n",
    ")"
   ]
  },
  {
   "cell_type": "markdown",
   "metadata": {},
   "source": [
    "Deletar um dado no banco"
   ]
  },
  {
   "cell_type": "code",
   "execution_count": 51,
   "metadata": {},
   "outputs": [],
   "source": [
    "# encontrar o Objectid e excluir por ele\n",
    "user_remove = db.usuario.find_one({'idade': 19})"
   ]
  },
  {
   "cell_type": "code",
   "execution_count": 53,
   "metadata": {},
   "outputs": [
    {
     "name": "stdout",
     "output_type": "stream",
     "text": [
      "{'_id': ObjectId('63541eeda2f95630fdc346bf'), 'nome': 'Raglicia Sandi Ribeiro de Sousa', 'idade': 19, 'email': 'ragliciasandi@gmail.com'}\n"
     ]
    }
   ],
   "source": [
    "print(user_remove)"
   ]
  },
  {
   "cell_type": "code",
   "execution_count": 54,
   "metadata": {},
   "outputs": [
    {
     "data": {
      "text/plain": [
       "<pymongo.results.DeleteResult at 0x7f2cc14635b0>"
      ]
     },
     "execution_count": 54,
     "metadata": {},
     "output_type": "execute_result"
    }
   ],
   "source": [
    "db.usuario.delete_one(\n",
    "    {\n",
    "        '_id': user_remove['_id'] \n",
    "    })"
   ]
  }
 ],
 "metadata": {
  "kernelspec": {
   "display_name": "Python 3.10.6 ('data_science')",
   "language": "python",
   "name": "python3"
  },
  "language_info": {
   "codemirror_mode": {
    "name": "ipython",
    "version": 3
   },
   "file_extension": ".py",
   "mimetype": "text/x-python",
   "name": "python",
   "nbconvert_exporter": "python",
   "pygments_lexer": "ipython3",
   "version": "3.10.6"
  },
  "orig_nbformat": 4,
  "vscode": {
   "interpreter": {
    "hash": "102671db410c68007d490b537e62a3ad357688a1f70facea488a2ac2fd860383"
   }
  }
 },
 "nbformat": 4,
 "nbformat_minor": 2
}
