{
 "cells": [
  {
   "cell_type": "markdown",
   "metadata": {},
   "source": [
    "### Numpy"
   ]
  },
  {
   "cell_type": "code",
   "execution_count": 2,
   "metadata": {},
   "outputs": [],
   "source": [
    "# importando Numpy\n",
    "import numpy as np"
   ]
  },
  {
   "cell_type": "code",
   "execution_count": 5,
   "metadata": {},
   "outputs": [
    {
     "name": "stdout",
     "output_type": "stream",
     "text": [
      "Help on built-in function array in module numpy:\n",
      "\n",
      "array(...)\n",
      "    array(object, dtype=None, *, copy=True, order='K', subok=False, ndmin=0,\n",
      "          like=None)\n",
      "    \n",
      "    Create an array.\n",
      "    \n",
      "    Parameters\n",
      "    ----------\n",
      "    object : array_like\n",
      "        An array, any object exposing the array interface, an object whose\n",
      "        __array__ method returns an array, or any (nested) sequence.\n",
      "        If object is a scalar, a 0-dimensional array containing object is\n",
      "        returned.\n",
      "    dtype : data-type, optional\n",
      "        The desired data-type for the array.  If not given, then the type will\n",
      "        be determined as the minimum type required to hold the objects in the\n",
      "        sequence.\n",
      "    copy : bool, optional\n",
      "        If true (default), then the object is copied.  Otherwise, a copy will\n",
      "        only be made if __array__ returns a copy, if obj is a nested sequence,\n",
      "        or if a copy is needed to satisfy any of the other requirements\n",
      "        (`dtype`, `order`, etc.).\n",
      "    order : {'K', 'A', 'C', 'F'}, optional\n",
      "        Specify the memory layout of the array. If object is not an array, the\n",
      "        newly created array will be in C order (row major) unless 'F' is\n",
      "        specified, in which case it will be in Fortran order (column major).\n",
      "        If object is an array the following holds.\n",
      "    \n",
      "        ===== ========= ===================================================\n",
      "        order  no copy                     copy=True\n",
      "        ===== ========= ===================================================\n",
      "        'K'   unchanged F & C order preserved, otherwise most similar order\n",
      "        'A'   unchanged F order if input is F and not C, otherwise C order\n",
      "        'C'   C order   C order\n",
      "        'F'   F order   F order\n",
      "        ===== ========= ===================================================\n",
      "    \n",
      "        When ``copy=False`` and a copy is made for other reasons, the result is\n",
      "        the same as if ``copy=True``, with some exceptions for 'A', see the\n",
      "        Notes section. The default order is 'K'.\n",
      "    subok : bool, optional\n",
      "        If True, then sub-classes will be passed-through, otherwise\n",
      "        the returned array will be forced to be a base-class array (default).\n",
      "    ndmin : int, optional\n",
      "        Specifies the minimum number of dimensions that the resulting\n",
      "        array should have.  Ones will be prepended to the shape as\n",
      "        needed to meet this requirement.\n",
      "    like : array_like, optional\n",
      "        Reference object to allow the creation of arrays which are not\n",
      "        NumPy arrays. If an array-like passed in as ``like`` supports\n",
      "        the ``__array_function__`` protocol, the result will be defined\n",
      "        by it. In this case, it ensures the creation of an array object\n",
      "        compatible with that passed in via this argument.\n",
      "    \n",
      "        .. versionadded:: 1.20.0\n",
      "    \n",
      "    Returns\n",
      "    -------\n",
      "    out : ndarray\n",
      "        An array object satisfying the specified requirements.\n",
      "    \n",
      "    See Also\n",
      "    --------\n",
      "    empty_like : Return an empty array with shape and type of input.\n",
      "    ones_like : Return an array of ones with shape and type of input.\n",
      "    zeros_like : Return an array of zeros with shape and type of input.\n",
      "    full_like : Return a new array with shape of input filled with value.\n",
      "    empty : Return a new uninitialized array.\n",
      "    ones : Return a new array setting values to one.\n",
      "    zeros : Return a new array setting values to zero.\n",
      "    full : Return a new array of given shape filled with value.\n",
      "    \n",
      "    \n",
      "    Notes\n",
      "    -----\n",
      "    When order is 'A' and `object` is an array in neither 'C' nor 'F' order,\n",
      "    and a copy is forced by a change in dtype, then the order of the result is\n",
      "    not necessarily 'C' as expected. This is likely a bug.\n",
      "    \n",
      "    Examples\n",
      "    --------\n",
      "    >>> np.array([1, 2, 3])\n",
      "    array([1, 2, 3])\n",
      "    \n",
      "    Upcasting:\n",
      "    \n",
      "    >>> np.array([1, 2, 3.0])\n",
      "    array([ 1.,  2.,  3.])\n",
      "    \n",
      "    More than one dimension:\n",
      "    \n",
      "    >>> np.array([[1, 2], [3, 4]])\n",
      "    array([[1, 2],\n",
      "           [3, 4]])\n",
      "    \n",
      "    Minimum dimensions 2:\n",
      "    \n",
      "    >>> np.array([1, 2, 3], ndmin=2)\n",
      "    array([[1, 2, 3]])\n",
      "    \n",
      "    Type provided:\n",
      "    \n",
      "    >>> np.array([1, 2, 3], dtype=complex)\n",
      "    array([ 1.+0.j,  2.+0.j,  3.+0.j])\n",
      "    \n",
      "    Data-type consisting of more than one element:\n",
      "    \n",
      "    >>> x = np.array([(1,2),(3,4)],dtype=[('a','<i4'),('b','<i4')])\n",
      "    >>> x['a']\n",
      "    array([1, 3])\n",
      "    \n",
      "    Creating an array from sub-classes:\n",
      "    \n",
      "    >>> np.array(np.mat('1 2; 3 4'))\n",
      "    array([[1, 2],\n",
      "           [3, 4]])\n",
      "    \n",
      "    >>> np.array(np.mat('1 2; 3 4'), subok=True)\n",
      "    matrix([[1, 2],\n",
      "            [3, 4]])\n",
      "\n"
     ]
    }
   ],
   "source": [
    "help(np.array)"
   ]
  },
  {
   "cell_type": "code",
   "execution_count": 6,
   "metadata": {},
   "outputs": [],
   "source": [
    "# criando um array Numpy\n",
    "vetor1 = np.array([0, 1, 2, 3, 4, 5, 6, 7, 8])"
   ]
  },
  {
   "cell_type": "code",
   "execution_count": 7,
   "metadata": {},
   "outputs": [
    {
     "name": "stdout",
     "output_type": "stream",
     "text": [
      "[0 1 2 3 4 5 6 7 8]\n"
     ]
    }
   ],
   "source": [
    "print(vetor1)"
   ]
  },
  {
   "cell_type": "code",
   "execution_count": 9,
   "metadata": {},
   "outputs": [
    {
     "data": {
      "text/plain": [
       "numpy.ndarray"
      ]
     },
     "execution_count": 9,
     "metadata": {},
     "output_type": "execute_result"
    }
   ],
   "source": [
    "type(vetor1)"
   ]
  },
  {
   "cell_type": "code",
   "execution_count": 11,
   "metadata": {},
   "outputs": [
    {
     "data": {
      "text/plain": [
       "array([ 0,  1,  3,  6, 10, 15, 21, 28, 36])"
      ]
     },
     "execution_count": 11,
     "metadata": {},
     "output_type": "execute_result"
    }
   ],
   "source": [
    "# calcular a soma acumulada\n",
    "vetor1.cumsum()"
   ]
  },
  {
   "cell_type": "code",
   "execution_count": 12,
   "metadata": {},
   "outputs": [],
   "source": [
    "# Criando uma lista. Perceba como listas e arrays são objetos diferentes, com diferentes propriedades\n",
    "lst = [0, 1, 2, 3, 4, 5, 6, 7, 8]"
   ]
  },
  {
   "cell_type": "code",
   "execution_count": 13,
   "metadata": {},
   "outputs": [
    {
     "data": {
      "text/plain": [
       "[0, 1, 2, 3, 4, 5, 6, 7, 8]"
      ]
     },
     "execution_count": 13,
     "metadata": {},
     "output_type": "execute_result"
    }
   ],
   "source": [
    "lst"
   ]
  },
  {
   "cell_type": "code",
   "execution_count": 14,
   "metadata": {},
   "outputs": [
    {
     "data": {
      "text/plain": [
       "list"
      ]
     },
     "execution_count": 14,
     "metadata": {},
     "output_type": "execute_result"
    }
   ],
   "source": [
    "type(lst)"
   ]
  },
  {
   "cell_type": "code",
   "execution_count": 15,
   "metadata": {},
   "outputs": [
    {
     "data": {
      "text/plain": [
       "0"
      ]
     },
     "execution_count": 15,
     "metadata": {},
     "output_type": "execute_result"
    }
   ],
   "source": [
    "# Imprimindo na tela um elemento específico no array\n",
    "vetor1[0]"
   ]
  },
  {
   "cell_type": "code",
   "execution_count": 16,
   "metadata": {},
   "outputs": [],
   "source": [
    "# Alterando um elemento do array\n",
    "vetor1[0] = 100"
   ]
  },
  {
   "cell_type": "code",
   "execution_count": 17,
   "metadata": {},
   "outputs": [
    {
     "name": "stdout",
     "output_type": "stream",
     "text": [
      "[100   1   2   3   4   5   6   7   8]\n"
     ]
    }
   ],
   "source": [
    "print(vetor1)"
   ]
  },
  {
   "cell_type": "code",
   "execution_count": 18,
   "metadata": {},
   "outputs": [
    {
     "ename": "ValueError",
     "evalue": "invalid literal for int() with base 10: 'Novo elemento'",
     "output_type": "error",
     "traceback": [
      "\u001b[0;31m---------------------------------------------------------------------------\u001b[0m",
      "\u001b[0;31mValueError\u001b[0m                                Traceback (most recent call last)",
      "\u001b[0;32m/tmp/ipykernel_20822/2580701345.py\u001b[0m in \u001b[0;36m<module>\u001b[0;34m\u001b[0m\n\u001b[1;32m      1\u001b[0m \u001b[0;31m# Não é possível incluir elemento de outro tipo\u001b[0m\u001b[0;34m\u001b[0m\u001b[0;34m\u001b[0m\u001b[0m\n\u001b[0;32m----> 2\u001b[0;31m \u001b[0mvetor1\u001b[0m\u001b[0;34m[\u001b[0m\u001b[0;36m0\u001b[0m\u001b[0;34m]\u001b[0m \u001b[0;34m=\u001b[0m \u001b[0;34m'Novo elemento'\u001b[0m\u001b[0;34m\u001b[0m\u001b[0;34m\u001b[0m\u001b[0m\n\u001b[0m",
      "\u001b[0;31mValueError\u001b[0m: invalid literal for int() with base 10: 'Novo elemento'"
     ]
    }
   ],
   "source": [
    "# Não é possível incluir elemento de outro tipo\n",
    "vetor1[0] = 'Novo elemento'"
   ]
  },
  {
   "cell_type": "code",
   "execution_count": 19,
   "metadata": {},
   "outputs": [
    {
     "name": "stdout",
     "output_type": "stream",
     "text": [
      "(9,)\n"
     ]
    }
   ],
   "source": [
    "# Verificando o formato do array\n",
    "print(vetor1.shape)"
   ]
  },
  {
   "cell_type": "markdown",
   "metadata": {},
   "source": [
    "### Funções NumPy"
   ]
  },
  {
   "cell_type": "code",
   "execution_count": 20,
   "metadata": {},
   "outputs": [],
   "source": [
    "# A função arange cria um vetor contendo uma progressão aritmética a partir de um intervalo - start, stop, step\n",
    "vetor2 = np.arange(0., 4.5, .5)"
   ]
  },
  {
   "cell_type": "code",
   "execution_count": 21,
   "metadata": {},
   "outputs": [
    {
     "name": "stdout",
     "output_type": "stream",
     "text": [
      "[0.  0.5 1.  1.5 2.  2.5 3.  3.5 4. ]\n"
     ]
    }
   ],
   "source": [
    "print(vetor2)"
   ]
  },
  {
   "cell_type": "code",
   "execution_count": 22,
   "metadata": {},
   "outputs": [
    {
     "data": {
      "text/plain": [
       "numpy.ndarray"
      ]
     },
     "execution_count": 22,
     "metadata": {},
     "output_type": "execute_result"
    }
   ],
   "source": [
    "# Verificando o tipo do objeto\n",
    "type(vetor2)"
   ]
  },
  {
   "cell_type": "code",
   "execution_count": 24,
   "metadata": {},
   "outputs": [
    {
     "data": {
      "text/plain": [
       "(9,)"
      ]
     },
     "execution_count": 24,
     "metadata": {},
     "output_type": "execute_result"
    }
   ],
   "source": [
    "vetor2.shape"
   ]
  },
  {
   "cell_type": "code",
   "execution_count": 25,
   "metadata": {},
   "outputs": [
    {
     "name": "stdout",
     "output_type": "stream",
     "text": [
      "float64\n"
     ]
    }
   ],
   "source": [
    "print (vetor2.dtype)"
   ]
  },
  {
   "cell_type": "code",
   "execution_count": 26,
   "metadata": {},
   "outputs": [
    {
     "name": "stdout",
     "output_type": "stream",
     "text": [
      "[1.   1.25 1.5  1.75 2.   2.25 2.5  2.75 3.   3.25 3.5  3.75 4.   4.25\n",
      " 4.5  4.75 5.   5.25 5.5  5.75 6.   6.25 6.5  6.75 7.   7.25 7.5  7.75\n",
      " 8.   8.25 8.5  8.75 9.   9.25 9.5  9.75]\n"
     ]
    }
   ],
   "source": [
    "x = np.arange(1, 10, 0.25)\n",
    "print(x)"
   ]
  },
  {
   "cell_type": "code",
   "execution_count": 27,
   "metadata": {},
   "outputs": [
    {
     "name": "stdout",
     "output_type": "stream",
     "text": [
      "[0. 0. 0. 0. 0. 0. 0. 0. 0. 0.]\n"
     ]
    }
   ],
   "source": [
    "print(np.zeros(10))"
   ]
  },
  {
   "cell_type": "code",
   "execution_count": 29,
   "metadata": {},
   "outputs": [
    {
     "name": "stdout",
     "output_type": "stream",
     "text": [
      "[[1. 0. 0.]\n",
      " [0. 1. 0.]\n",
      " [0. 0. 1.]]\n"
     ]
    }
   ],
   "source": [
    "# Retorna 1 nas posições em diagonal e 0 no restante\n",
    "z = np.eye(3)\n",
    "print(z)"
   ]
  },
  {
   "cell_type": "code",
   "execution_count": 30,
   "metadata": {},
   "outputs": [
    {
     "data": {
      "text/plain": [
       "array([[1, 0, 0, 0],\n",
       "       [0, 2, 0, 0],\n",
       "       [0, 0, 3, 0],\n",
       "       [0, 0, 0, 4]])"
      ]
     },
     "execution_count": 30,
     "metadata": {},
     "output_type": "execute_result"
    }
   ],
   "source": [
    "# Os valores passados como parâmetro, formam uma diagonal\n",
    "d = np.diag(np.array([1, 2, 3, 4]))\n",
    "d"
   ]
  },
  {
   "cell_type": "code",
   "execution_count": 32,
   "metadata": {},
   "outputs": [
    {
     "data": {
      "text/plain": [
       "array([1.+2.j, 3.+4.j, 5.+6.j])"
      ]
     },
     "execution_count": 32,
     "metadata": {},
     "output_type": "execute_result"
    }
   ],
   "source": [
    "# Array de números complexos\n",
    "c = np.array([1+2j, 3+4j, 5+6*1j])\n",
    "c"
   ]
  },
  {
   "cell_type": "code",
   "execution_count": 34,
   "metadata": {},
   "outputs": [
    {
     "data": {
      "text/plain": [
       "array([ True, False, False,  True])"
      ]
     },
     "execution_count": 34,
     "metadata": {},
     "output_type": "execute_result"
    }
   ],
   "source": [
    "# Array de valores booleanos\n",
    "b = np.array([True, False, False, True])\n",
    "b"
   ]
  },
  {
   "cell_type": "code",
   "execution_count": 35,
   "metadata": {},
   "outputs": [
    {
     "data": {
      "text/plain": [
       "array(['Python', 'R', 'Julia'], dtype='<U6')"
      ]
     },
     "execution_count": 35,
     "metadata": {},
     "output_type": "execute_result"
    }
   ],
   "source": [
    "# Array de strings\n",
    "s = np.array(['Python', 'R', 'Julia'])\n",
    "s"
   ]
  },
  {
   "cell_type": "code",
   "execution_count": 36,
   "metadata": {},
   "outputs": [
    {
     "data": {
      "text/plain": [
       "array([ 0.        ,  0.20408163,  0.40816327,  0.6122449 ,  0.81632653,\n",
       "        1.02040816,  1.2244898 ,  1.42857143,  1.63265306,  1.83673469,\n",
       "        2.04081633,  2.24489796,  2.44897959,  2.65306122,  2.85714286,\n",
       "        3.06122449,  3.26530612,  3.46938776,  3.67346939,  3.87755102,\n",
       "        4.08163265,  4.28571429,  4.48979592,  4.69387755,  4.89795918,\n",
       "        5.10204082,  5.30612245,  5.51020408,  5.71428571,  5.91836735,\n",
       "        6.12244898,  6.32653061,  6.53061224,  6.73469388,  6.93877551,\n",
       "        7.14285714,  7.34693878,  7.55102041,  7.75510204,  7.95918367,\n",
       "        8.16326531,  8.36734694,  8.57142857,  8.7755102 ,  8.97959184,\n",
       "        9.18367347,  9.3877551 ,  9.59183673,  9.79591837, 10.        ])"
      ]
     },
     "execution_count": 36,
     "metadata": {},
     "output_type": "execute_result"
    }
   ],
   "source": [
    "# O método linspace (linearly spaced vector) retorna um número de \n",
    "# valores igualmente distribuídos no intervalo especificado \n",
    "np.linspace(0, 10)"
   ]
  },
  {
   "cell_type": "code",
   "execution_count": 37,
   "metadata": {},
   "outputs": [
    {
     "name": "stdout",
     "output_type": "stream",
     "text": [
      "[ 0.          0.71428571  1.42857143  2.14285714  2.85714286  3.57142857\n",
      "  4.28571429  5.          5.71428571  6.42857143  7.14285714  7.85714286\n",
      "  8.57142857  9.28571429 10.        ]\n"
     ]
    }
   ],
   "source": [
    "print(np.linspace(0, 10, 15))"
   ]
  },
  {
   "cell_type": "code",
   "execution_count": 38,
   "metadata": {},
   "outputs": [
    {
     "name": "stdout",
     "output_type": "stream",
     "text": [
      "[1.00000000e+00 3.59381366e+00 1.29154967e+01 4.64158883e+01\n",
      " 1.66810054e+02 5.99484250e+02 2.15443469e+03 7.74263683e+03\n",
      " 2.78255940e+04 1.00000000e+05]\n"
     ]
    }
   ],
   "source": [
    "print(np.logspace(0, 5, 10))"
   ]
  },
  {
   "cell_type": "markdown",
   "metadata": {},
   "source": [
    "### Criando Matrizes"
   ]
  },
  {
   "cell_type": "code",
   "execution_count": 3,
   "metadata": {},
   "outputs": [],
   "source": [
    "# criando uma matriz\n",
    "matriz = np.array([[1, 2, 3],[4, 5, 6]])"
   ]
  },
  {
   "cell_type": "code",
   "execution_count": 6,
   "metadata": {},
   "outputs": [
    {
     "data": {
      "text/plain": [
       "1"
      ]
     },
     "execution_count": 6,
     "metadata": {},
     "output_type": "execute_result"
    }
   ],
   "source": [
    "matriz[0][0]"
   ]
  },
  {
   "cell_type": "code",
   "execution_count": 7,
   "metadata": {},
   "outputs": [
    {
     "data": {
      "text/plain": [
       "(2, 3)"
      ]
     },
     "execution_count": 7,
     "metadata": {},
     "output_type": "execute_result"
    }
   ],
   "source": [
    "matriz.shape"
   ]
  },
  {
   "cell_type": "code",
   "execution_count": 8,
   "metadata": {},
   "outputs": [],
   "source": [
    "# Criando uma matriz 2x3 apenas com números \"1\"\n",
    "matriz1 = np.ones((2,3))"
   ]
  },
  {
   "cell_type": "code",
   "execution_count": 9,
   "metadata": {},
   "outputs": [
    {
     "data": {
      "text/plain": [
       "array([[1., 1., 1.],\n",
       "       [1., 1., 1.]])"
      ]
     },
     "execution_count": 9,
     "metadata": {},
     "output_type": "execute_result"
    }
   ],
   "source": [
    "matriz1"
   ]
  },
  {
   "cell_type": "code",
   "execution_count": 17,
   "metadata": {},
   "outputs": [],
   "source": [
    "# Criando uma matriz a partir de uma lista de listas\n",
    "lista = [[13, 81, 22], [0, 34, 59], [21, 48, 94]]"
   ]
  },
  {
   "cell_type": "code",
   "execution_count": 18,
   "metadata": {},
   "outputs": [],
   "source": [
    "# A função matrix cria uma matria a partir de uma sequência\n",
    "matriz2 = np.matrix(lista)"
   ]
  },
  {
   "cell_type": "code",
   "execution_count": 19,
   "metadata": {},
   "outputs": [
    {
     "data": {
      "text/plain": [
       "matrix([[13, 81, 22],\n",
       "        [ 0, 34, 59],\n",
       "        [21, 48, 94]])"
      ]
     },
     "execution_count": 19,
     "metadata": {},
     "output_type": "execute_result"
    }
   ],
   "source": [
    "\n",
    "# obs: para fins de teste, eu coloquei um dado string\n",
    "# no meio de números e o array gerado foi uma lista de strings\n",
    "matriz2"
   ]
  },
  {
   "cell_type": "code",
   "execution_count": 20,
   "metadata": {},
   "outputs": [
    {
     "data": {
      "text/plain": [
       "numpy.matrix"
      ]
     },
     "execution_count": 20,
     "metadata": {},
     "output_type": "execute_result"
    }
   ],
   "source": [
    "type(matriz2)"
   ]
  },
  {
   "cell_type": "code",
   "execution_count": 21,
   "metadata": {},
   "outputs": [
    {
     "data": {
      "text/plain": [
       "(3, 3)"
      ]
     },
     "execution_count": 21,
     "metadata": {},
     "output_type": "execute_result"
    }
   ],
   "source": [
    "# Formato da matriz\n",
    "np.shape(matriz2)"
   ]
  },
  {
   "cell_type": "code",
   "execution_count": 22,
   "metadata": {},
   "outputs": [
    {
     "data": {
      "text/plain": [
       "9"
      ]
     },
     "execution_count": 22,
     "metadata": {},
     "output_type": "execute_result"
    }
   ],
   "source": [
    "matriz2.size"
   ]
  },
  {
   "cell_type": "code",
   "execution_count": null,
   "metadata": {},
   "outputs": [],
   "source": [
    "# verificar o tipo de dado armazenado na matriz numpy\n",
    "print(matriz2.dtype)"
   ]
  },
  {
   "cell_type": "code",
   "execution_count": 23,
   "metadata": {},
   "outputs": [
    {
     "data": {
      "text/plain": [
       "8"
      ]
     },
     "execution_count": 23,
     "metadata": {},
     "output_type": "execute_result"
    }
   ],
   "source": [
    "# mostra o espeço de memoria usado por cada item\n",
    "matriz2.itemsize"
   ]
  },
  {
   "cell_type": "code",
   "execution_count": 24,
   "metadata": {},
   "outputs": [
    {
     "data": {
      "text/plain": [
       "72"
      ]
     },
     "execution_count": 24,
     "metadata": {},
     "output_type": "execute_result"
    }
   ],
   "source": [
    "# total de bytes ocupado pela matriz\n",
    "matriz2.nbytes"
   ]
  },
  {
   "cell_type": "code",
   "execution_count": 26,
   "metadata": {},
   "outputs": [
    {
     "name": "stdout",
     "output_type": "stream",
     "text": [
      "48\n"
     ]
    }
   ],
   "source": [
    "print(matriz2[2,1])"
   ]
  },
  {
   "cell_type": "code",
   "execution_count": 28,
   "metadata": {},
   "outputs": [
    {
     "name": "stdout",
     "output_type": "stream",
     "text": [
      "48\n"
     ]
    }
   ],
   "source": [
    "# WARNING - Para matrizes numpy, essa eh a \n",
    "# notacao para buscar um itens dentro da matriz\n",
    "print(matriz2[2,1])"
   ]
  },
  {
   "cell_type": "code",
   "execution_count": 29,
   "metadata": {},
   "outputs": [],
   "source": [
    "# Alterando um elemento da matriz\n",
    "matriz2[1,0] = 100"
   ]
  },
  {
   "cell_type": "code",
   "execution_count": 30,
   "metadata": {},
   "outputs": [
    {
     "data": {
      "text/plain": [
       "matrix([[ 13,  81,  22],\n",
       "        [100,  34,  59],\n",
       "        [ 21,  48,  94]])"
      ]
     },
     "execution_count": 30,
     "metadata": {},
     "output_type": "execute_result"
    }
   ],
   "source": [
    "matriz2"
   ]
  },
  {
   "cell_type": "code",
   "execution_count": 31,
   "metadata": {},
   "outputs": [
    {
     "name": "stdout",
     "output_type": "stream",
     "text": [
      "int64 float64 float64\n"
     ]
    }
   ],
   "source": [
    "x = np.array([1, 2])  # NumPy decide o tipo dos dados\n",
    "y = np.array([1.0, 2.0])  # NumPy decide o tipo dos dados\n",
    "z = np.array([1, 2], dtype=np.float64)  # Forçamos um tipo de dado em particular\n",
    "\n",
    "print (x.dtype, y.dtype, z.dtype)"
   ]
  },
  {
   "cell_type": "code",
   "execution_count": 32,
   "metadata": {},
   "outputs": [],
   "source": [
    "matriz3 = np.array([[24, 76], [35, 89]], dtype=float)"
   ]
  },
  {
   "cell_type": "code",
   "execution_count": 33,
   "metadata": {},
   "outputs": [
    {
     "data": {
      "text/plain": [
       "array([[24., 76.],\n",
       "       [35., 89.]])"
      ]
     },
     "execution_count": 33,
     "metadata": {},
     "output_type": "execute_result"
    }
   ],
   "source": [
    "matriz3"
   ]
  },
  {
   "cell_type": "code",
   "execution_count": 34,
   "metadata": {},
   "outputs": [
    {
     "data": {
      "text/plain": [
       "8"
      ]
     },
     "execution_count": 34,
     "metadata": {},
     "output_type": "execute_result"
    }
   ],
   "source": [
    "# verificar a quantidade de itens da matriz\n",
    "matriz3.itemsize"
   ]
  },
  {
   "cell_type": "code",
   "execution_count": 35,
   "metadata": {},
   "outputs": [
    {
     "data": {
      "text/plain": [
       "32"
      ]
     },
     "execution_count": 35,
     "metadata": {},
     "output_type": "execute_result"
    }
   ],
   "source": [
    "# verificar o numero de bytes\n",
    "matriz3.nbytes"
   ]
  },
  {
   "cell_type": "code",
   "execution_count": 36,
   "metadata": {},
   "outputs": [
    {
     "data": {
      "text/plain": [
       "2"
      ]
     },
     "execution_count": 36,
     "metadata": {},
     "output_type": "execute_result"
    }
   ],
   "source": [
    "# verificar o numero de dimensões da matriz\n",
    "matriz3.ndim"
   ]
  },
  {
   "cell_type": "code",
   "execution_count": 37,
   "metadata": {},
   "outputs": [
    {
     "data": {
      "text/plain": [
       "89.0"
      ]
     },
     "execution_count": 37,
     "metadata": {},
     "output_type": "execute_result"
    }
   ],
   "source": [
    "matriz3[1,1]"
   ]
  },
  {
   "cell_type": "code",
   "execution_count": 38,
   "metadata": {},
   "outputs": [],
   "source": [
    "matriz3[1,1] = 100"
   ]
  },
  {
   "cell_type": "code",
   "execution_count": 39,
   "metadata": {},
   "outputs": [
    {
     "data": {
      "text/plain": [
       "array([[ 24.,  76.],\n",
       "       [ 35., 100.]])"
      ]
     },
     "execution_count": 39,
     "metadata": {},
     "output_type": "execute_result"
    }
   ],
   "source": [
    "matriz3"
   ]
  },
  {
   "cell_type": "markdown",
   "metadata": {},
   "source": [
    "### Usando o Método random() do NumPy"
   ]
  },
  {
   "cell_type": "code",
   "execution_count": 40,
   "metadata": {},
   "outputs": [
    {
     "name": "stdout",
     "output_type": "stream",
     "text": [
      "[0.31513061 0.56297578 0.54194313 0.71927711 0.98184885 0.13032543\n",
      " 0.24260228 0.35101827 0.97172863 0.68008645]\n"
     ]
    }
   ],
   "source": [
    "# gerando uma lista de numeros aleatorios\n",
    "\n",
    "# cria um array ou matriz de numeros aleatorios entre 0 e 1\n",
    "print(np.random.rand(10))"
   ]
  },
  {
   "cell_type": "code",
   "execution_count": 41,
   "metadata": {},
   "outputs": [],
   "source": [
    "import matplotlib.pyplot as plt\n",
    "%matplotlib inline"
   ]
  },
  {
   "cell_type": "code",
   "execution_count": 42,
   "metadata": {},
   "outputs": [
    {
     "name": "stdout",
     "output_type": "stream",
     "text": [
      "[0.74010868 0.1398518  0.18077564 0.36376711 0.39610577 0.1989037\n",
      " 0.21161228 0.16837286 0.98991319 0.43537785]\n"
     ]
    }
   ],
   "source": [
    "print(np.random.rand(10))"
   ]
  },
  {
   "cell_type": "code",
   "execution_count": 46,
   "metadata": {},
   "outputs": [
    {
     "data": {
      "image/png": "[encoded data removed]",
      "text/plain": [
       "<Figure size 640x480 with 1 Axes>"
      ]
     },
     "metadata": {},
     "output_type": "display_data"
    }
   ],
   "source": [
    "plt.show((plt.hist(np.random.rand(1000))))"
   ]
  },
  {
   "cell_type": "code",
   "execution_count": 47,
   "metadata": {},
   "outputs": [
    {
     "name": "stdout",
     "output_type": "stream",
     "text": [
      "[[ 0.79373183  0.87146181 -0.65627006  1.35637917 -1.20172799]\n",
      " [ 0.7721098  -1.75004834  1.47471063 -1.07592387 -1.97261017]\n",
      " [ 0.73603237  0.33210163 -0.71434309  0.8631441   1.52963921]\n",
      " [ 0.48590185  0.71412881 -1.53562595  1.25138685 -1.03062891]\n",
      " [ 0.59495217  1.11681864 -0.00301686  0.50276142  0.2460458 ]]\n"
     ]
    }
   ],
   "source": [
    "print(np.random.randn(5,5))"
   ]
  },
  {
   "cell_type": "code",
   "execution_count": 55,
   "metadata": {},
   "outputs": [
    {
     "data": {
      "image/png": "[encoded data removed]",
      "text/plain": [
       "<Figure size 640x480 with 1 Axes>"
      ]
     },
     "metadata": {},
     "output_type": "display_data"
    }
   ],
   "source": [
    "plt.show(plt.hist(np.random.randn(1000)))"
   ]
  },
  {
   "cell_type": "code",
   "execution_count": 56,
   "metadata": {},
   "outputs": [
    {
     "data": {
      "text/plain": [
       "<matplotlib.colorbar.Colorbar at 0x7f38dd700730>"
      ]
     },
     "execution_count": 56,
     "metadata": {},
     "output_type": "execute_result"
    },
    {
     "data": {
      "image/png": "[encoded data removed]",
      "text/plain": [
       "<Figure size 640x480 with 2 Axes>"
      ]
     },
     "metadata": {},
     "output_type": "display_data"
    }
   ],
   "source": [
    "imagem = np.random.rand(30, 30)\n",
    "plt.imshow(imagem, cmap = plt.cm.hot)    \n",
    "plt.colorbar()    "
   ]
  },
  {
   "cell_type": "markdown",
   "metadata": {},
   "source": [
    "### Operações com datasets"
   ]
  },
  {
   "cell_type": "code",
   "execution_count": 61,
   "metadata": {},
   "outputs": [],
   "source": [
    "import os\n",
    "filename = os.path.join('iris.csv')"
   ]
  },
  {
   "cell_type": "code",
   "execution_count": 62,
   "metadata": {},
   "outputs": [
    {
     "name": "stdout",
     "output_type": "stream",
     "text": [
      "sepal_length,sepal_width,petal_length,petal_width,species\n",
      "5.1,3.5,1.4,0.2,setosa\n",
      "4.9,3,1.4,0.2,setosa\n",
      "4.7,3.2,1.3,0.2,setosa\n",
      "4.6,3.1,1.5,0.2,setosa\n",
      "5,3.6,1.4,0.2,setosa\n",
      "5.4,3.9,1.7,0.4,setosa\n",
      "4.6,3.4,1.4,0.3,setosa\n",
      "5,3.4,1.5,0.2,setosa\n",
      "4.4,2.9,1.4,0.2,setosa\n"
     ]
    }
   ],
   "source": [
    "# No Windows use !more iris.csv. Mac ou Linux use !head iris.csv\n",
    "!head iris.csv\n",
    "#!more iris.csv"
   ]
  },
  {
   "cell_type": "code",
   "execution_count": 63,
   "metadata": {},
   "outputs": [
    {
     "name": "stdout",
     "output_type": "stream",
     "text": [
      "[[5.1 3.5 1.4 0.2]\n",
      " [4.9 3.  1.4 0.2]\n",
      " [4.7 3.2 1.3 0.2]\n",
      " [4.6 3.1 1.5 0.2]\n",
      " [5.  3.6 1.4 0.2]\n",
      " [5.4 3.9 1.7 0.4]\n",
      " [4.6 3.4 1.4 0.3]\n",
      " [5.  3.4 1.5 0.2]\n",
      " [4.4 2.9 1.4 0.2]\n",
      " [4.9 3.1 1.5 0.1]\n",
      " [5.4 3.7 1.5 0.2]\n",
      " [4.8 3.4 1.6 0.2]\n",
      " [4.8 3.  1.4 0.1]\n",
      " [4.3 3.  1.1 0.1]\n",
      " [5.8 4.  1.2 0.2]\n",
      " [5.7 4.4 1.5 0.4]\n",
      " [5.4 3.9 1.3 0.4]\n",
      " [5.1 3.5 1.4 0.3]\n",
      " [5.7 3.8 1.7 0.3]\n",
      " [5.1 3.8 1.5 0.3]\n",
      " [5.4 3.4 1.7 0.2]\n",
      " [5.1 3.7 1.5 0.4]\n",
      " [4.6 3.6 1.  0.2]\n",
      " [5.1 3.3 1.7 0.5]\n",
      " [4.8 3.4 1.9 0.2]\n",
      " [5.  3.  1.6 0.2]\n",
      " [5.  3.4 1.6 0.4]\n",
      " [5.2 3.5 1.5 0.2]\n",
      " [5.2 3.4 1.4 0.2]\n",
      " [4.7 3.2 1.6 0.2]\n",
      " [4.8 3.1 1.6 0.2]\n",
      " [5.4 3.4 1.5 0.4]\n",
      " [5.2 4.1 1.5 0.1]\n",
      " [5.5 4.2 1.4 0.2]\n",
      " [4.9 3.1 1.5 0.1]\n",
      " [5.  3.2 1.2 0.2]\n",
      " [5.5 3.5 1.3 0.2]\n",
      " [4.9 3.1 1.5 0.1]\n",
      " [4.4 3.  1.3 0.2]\n",
      " [5.1 3.4 1.5 0.2]\n",
      " [5.  3.5 1.3 0.3]\n",
      " [4.5 2.3 1.3 0.3]\n",
      " [4.4 3.2 1.3 0.2]\n",
      " [5.  3.5 1.6 0.6]\n",
      " [5.1 3.8 1.9 0.4]\n",
      " [4.8 3.  1.4 0.3]\n",
      " [5.1 3.8 1.6 0.2]\n",
      " [4.6 3.2 1.4 0.2]\n",
      " [5.3 3.7 1.5 0.2]\n",
      " [5.  3.3 1.4 0.2]\n",
      " [7.  3.2 4.7 1.4]\n",
      " [6.4 3.2 4.5 1.5]\n",
      " [6.9 3.1 4.9 1.5]\n",
      " [5.5 2.3 4.  1.3]\n",
      " [6.5 2.8 4.6 1.5]\n",
      " [5.7 2.8 4.5 1.3]\n",
      " [6.3 3.3 4.7 1.6]\n",
      " [4.9 2.4 3.3 1. ]\n",
      " [6.6 2.9 4.6 1.3]\n",
      " [5.2 2.7 3.9 1.4]\n",
      " [5.  2.  3.5 1. ]\n",
      " [5.9 3.  4.2 1.5]\n",
      " [6.  2.2 4.  1. ]\n",
      " [6.1 2.9 4.7 1.4]\n",
      " [5.6 2.9 3.6 1.3]\n",
      " [6.7 3.1 4.4 1.4]\n",
      " [5.6 3.  4.5 1.5]\n",
      " [5.8 2.7 4.1 1. ]\n",
      " [6.2 2.2 4.5 1.5]\n",
      " [5.6 2.5 3.9 1.1]\n",
      " [5.9 3.2 4.8 1.8]\n",
      " [6.1 2.8 4.  1.3]\n",
      " [6.3 2.5 4.9 1.5]\n",
      " [6.1 2.8 4.7 1.2]\n",
      " [6.4 2.9 4.3 1.3]\n",
      " [6.6 3.  4.4 1.4]\n",
      " [6.8 2.8 4.8 1.4]\n",
      " [6.7 3.  5.  1.7]\n",
      " [6.  2.9 4.5 1.5]\n",
      " [5.7 2.6 3.5 1. ]\n",
      " [5.5 2.4 3.8 1.1]\n",
      " [5.5 2.4 3.7 1. ]\n",
      " [5.8 2.7 3.9 1.2]\n",
      " [6.  2.7 5.1 1.6]\n",
      " [5.4 3.  4.5 1.5]\n",
      " [6.  3.4 4.5 1.6]\n",
      " [6.7 3.1 4.7 1.5]\n",
      " [6.3 2.3 4.4 1.3]\n",
      " [5.6 3.  4.1 1.3]\n",
      " [5.5 2.5 4.  1.3]\n",
      " [5.5 2.6 4.4 1.2]\n",
      " [6.1 3.  4.6 1.4]\n",
      " [5.8 2.6 4.  1.2]\n",
      " [5.  2.3 3.3 1. ]\n",
      " [5.6 2.7 4.2 1.3]\n",
      " [5.7 3.  4.2 1.2]\n",
      " [5.7 2.9 4.2 1.3]\n",
      " [6.2 2.9 4.3 1.3]\n",
      " [5.1 2.5 3.  1.1]\n",
      " [5.7 2.8 4.1 1.3]\n",
      " [6.3 3.3 6.  2.5]\n",
      " [5.8 2.7 5.1 1.9]\n",
      " [7.1 3.  5.9 2.1]\n",
      " [6.3 2.9 5.6 1.8]\n",
      " [6.5 3.  5.8 2.2]\n",
      " [7.6 3.  6.6 2.1]\n",
      " [4.9 2.5 4.5 1.7]\n",
      " [7.3 2.9 6.3 1.8]\n",
      " [6.7 2.5 5.8 1.8]\n",
      " [7.2 3.6 6.1 2.5]\n",
      " [6.5 3.2 5.1 2. ]\n",
      " [6.4 2.7 5.3 1.9]\n",
      " [6.8 3.  5.5 2.1]\n",
      " [5.7 2.5 5.  2. ]\n",
      " [5.8 2.8 5.1 2.4]\n",
      " [6.4 3.2 5.3 2.3]\n",
      " [6.5 3.  5.5 1.8]\n",
      " [7.7 3.8 6.7 2.2]\n",
      " [7.7 2.6 6.9 2.3]\n",
      " [6.  2.2 5.  1.5]\n",
      " [6.9 3.2 5.7 2.3]\n",
      " [5.6 2.8 4.9 2. ]\n",
      " [7.7 2.8 6.7 2. ]\n",
      " [6.3 2.7 4.9 1.8]\n",
      " [6.7 3.3 5.7 2.1]\n",
      " [7.2 3.2 6.  1.8]\n",
      " [6.2 2.8 4.8 1.8]\n",
      " [6.1 3.  4.9 1.8]\n",
      " [6.4 2.8 5.6 2.1]\n",
      " [7.2 3.  5.8 1.6]\n",
      " [7.4 2.8 6.1 1.9]\n",
      " [7.9 3.8 6.4 2. ]\n",
      " [6.4 2.8 5.6 2.2]\n",
      " [6.3 2.8 5.1 1.5]\n",
      " [6.1 2.6 5.6 1.4]\n",
      " [7.7 3.  6.1 2.3]\n",
      " [6.3 3.4 5.6 2.4]\n",
      " [6.4 3.1 5.5 1.8]\n",
      " [6.  3.  4.8 1.8]\n",
      " [6.9 3.1 5.4 2.1]\n",
      " [6.7 3.1 5.6 2.4]\n",
      " [6.9 3.1 5.1 2.3]\n",
      " [5.8 2.7 5.1 1.9]\n",
      " [6.8 3.2 5.9 2.3]\n",
      " [6.7 3.3 5.7 2.5]\n",
      " [6.7 3.  5.2 2.3]\n",
      " [6.3 2.5 5.  1.9]\n",
      " [6.5 3.  5.2 2. ]\n",
      " [6.2 3.4 5.4 2.3]\n",
      " [5.9 3.  5.1 1.8]]\n"
     ]
    }
   ],
   "source": [
    "# Carregando um dataset para dentro de um array\n",
    "arquivo = np.loadtxt(filename, delimiter=',', usecols=(0,1,2,3), skiprows=1)\n",
    "print (arquivo)"
   ]
  },
  {
   "cell_type": "code",
   "execution_count": 64,
   "metadata": {},
   "outputs": [
    {
     "data": {
      "text/plain": [
       "numpy.ndarray"
      ]
     },
     "execution_count": 64,
     "metadata": {},
     "output_type": "execute_result"
    }
   ],
   "source": [
    "type(arquivo)"
   ]
  },
  {
   "cell_type": "code",
   "execution_count": 65,
   "metadata": {},
   "outputs": [
    {
     "data": {
      "image/png": "[encoded data removed]",
      "text/plain": [
       "<Figure size 640x480 with 1 Axes>"
      ]
     },
     "metadata": {},
     "output_type": "display_data"
    }
   ],
   "source": [
    "# Gerando um plot a partir de um arquivo usando o NumPy\n",
    "var1, var2 = np.loadtxt(filename, delimiter=',', usecols=(0,1), skiprows=1, unpack=True)\n",
    "plt.show(plt.plot(var1, var2, 'o', markersize=8, alpha=0.75))"
   ]
  },
  {
   "cell_type": "markdown",
   "metadata": {},
   "source": [
    "### Estatística "
   ]
  },
  {
   "cell_type": "code",
   "execution_count": null,
   "metadata": {},
   "outputs": [],
   "source": [
    "# Criando um array\n",
    "A = np.array([15, 23, 63, 94, 75])"
   ]
  },
  {
   "cell_type": "code",
   "execution_count": null,
   "metadata": {},
   "outputs": [],
   "source": [
    "# Em estatística a média é o valor que aponta para onde mais se concentram os dados de uma distribuição.\n",
    "np.mean(A)"
   ]
  },
  {
   "cell_type": "code",
   "execution_count": null,
   "metadata": {},
   "outputs": [],
   "source": [
    "# O desvio padrão mostra o quanto de variação ou \"dispersão\" existe em \n",
    "# relação à média (ou valor esperado). \n",
    "# Um baixo desvio padrão indica que os dados tendem a estar próximos da média.\n",
    "# Um desvio padrão alto indica que os dados estão espalhados por uma gama de valores.\n",
    "np.std(A)"
   ]
  },
  {
   "cell_type": "code",
   "execution_count": null,
   "metadata": {},
   "outputs": [],
   "source": [
    "# Variância de uma variável aleatória é uma medida da sua dispersão \n",
    "# estatística, indicando \"o quão longe\" em geral os seus valores se \n",
    "# encontram do valor esperado\n",
    "np.var(A)"
   ]
  },
  {
   "cell_type": "code",
   "execution_count": null,
   "metadata": {},
   "outputs": [],
   "source": [
    "d = np.arange(1, 10)"
   ]
  },
  {
   "cell_type": "code",
   "execution_count": null,
   "metadata": {},
   "outputs": [],
   "source": [
    "np.sum(d)"
   ]
  },
  {
   "cell_type": "code",
   "execution_count": null,
   "metadata": {},
   "outputs": [],
   "source": [
    "# Retorna o produto dos elementos\n",
    "np.prod(d)"
   ]
  },
  {
   "cell_type": "code",
   "execution_count": null,
   "metadata": {},
   "outputs": [],
   "source": [
    "# Soma acumulada dos elementos\n",
    "np.cumsum(d)"
   ]
  },
  {
   "cell_type": "code",
   "execution_count": 69,
   "metadata": {},
   "outputs": [
    {
     "name": "stdout",
     "output_type": "stream",
     "text": [
      "[[-1.56776474e+00 -8.15080828e-01]\n",
      " [-1.07957663e+00  6.52542738e-01]\n",
      " [ 5.60861548e-01 -1.22576493e+00]\n",
      " [ 4.05976907e-01  8.84389420e-01]\n",
      " [-8.71651915e-01 -2.96402305e-01]\n",
      " [ 7.34669114e-01 -8.74520513e-01]\n",
      " [ 1.15174720e+00 -1.29360448e+00]\n",
      " [ 1.24255213e+00  2.13453091e-01]\n",
      " [-8.71142463e-01 -1.38378399e-01]\n",
      " [ 1.98517919e-01 -2.54600737e-01]\n",
      " [ 4.28562518e-01 -6.11724167e-01]\n",
      " [ 1.08659125e+00  1.10865931e+00]\n",
      " [-4.94335210e-01 -2.21218941e-01]\n",
      " [-8.20868379e-01  4.47137365e-01]\n",
      " [ 1.45150659e+00  3.93851330e-01]\n",
      " [ 5.75383898e-02  1.75012951e+00]\n",
      " [ 5.27231920e-01 -1.72711950e+00]\n",
      " [ 1.31711948e+00  6.91225369e-02]\n",
      " [ 9.39315267e-01  1.80609342e+00]\n",
      " [ 1.28389933e+00 -2.12497997e-01]\n",
      " [-5.80968916e-01 -7.11139395e-01]\n",
      " [ 6.16348734e-01  2.96865801e-01]\n",
      " [ 2.14731062e-01  1.42977610e-01]\n",
      " [ 1.23922680e+00 -3.05871741e-01]\n",
      " [ 2.95153889e-01  5.22642579e-01]\n",
      " [-8.74683703e-01 -9.03288691e-01]\n",
      " [ 2.04258177e+00  2.34575059e+00]\n",
      " [ 2.30286712e-01  8.41035571e-01]\n",
      " [-1.01181566e+00 -5.17766842e-01]\n",
      " [ 1.86020119e+00  4.84915439e-01]\n",
      " [-1.50643321e+00 -1.66735388e+00]\n",
      " [ 1.53062914e+00 -7.53072237e-02]\n",
      " [ 1.81885357e+00  1.34678169e+00]\n",
      " [-5.72114289e-01 -1.72586969e+00]\n",
      " [ 1.42247014e+00 -6.61272571e-02]\n",
      " [-7.21100821e-01 -6.99646622e-01]\n",
      " [ 2.91026201e+00 -1.37399865e+00]\n",
      " [-1.06552217e+00 -8.53839322e-01]\n",
      " [ 5.61940115e-01  9.49356838e-01]\n",
      " [-2.27683058e-01  7.09211962e-01]\n",
      " [-1.50729005e-01  1.47640286e-01]\n",
      " [-2.34358025e+00 -1.25720187e-01]\n",
      " [-8.13065739e-02 -3.97236250e-01]\n",
      " [-4.38105838e-01  9.75678689e-01]\n",
      " [-6.92328731e-01  1.27178027e+00]\n",
      " [-2.05960710e+00  2.10639567e-01]\n",
      " [ 1.02356491e+00  1.87099243e+00]\n",
      " [-6.23485279e-03 -6.94752060e-01]\n",
      " [ 2.87605071e-02 -5.32347364e-01]\n",
      " [ 1.35817751e+00 -6.65116977e-02]\n",
      " [-2.93508641e-01  7.54479317e-01]\n",
      " [-6.83608907e-01 -5.03076423e-01]\n",
      " [ 1.27253344e+00 -1.68371829e-01]\n",
      " [ 5.14029700e-02  6.90765737e-02]\n",
      " [-5.61500131e-01  5.17106601e-01]\n",
      " [-7.82949564e-01 -3.05050623e-01]\n",
      " [-1.23127823e+00 -1.24661912e-01]\n",
      " [-4.88719684e-01 -9.03734170e-01]\n",
      " [ 7.76913594e-01 -1.14353076e+00]\n",
      " [ 4.28043668e-01  6.16676017e-01]\n",
      " [ 8.75408591e-01  8.89315344e-01]\n",
      " [ 4.27170190e-01  1.33844273e+00]\n",
      " [ 9.15648331e-01 -6.42382572e-01]\n",
      " [ 1.07555053e+00  7.21042657e-01]\n",
      " [ 2.39291334e-03 -1.52789315e+00]\n",
      " [-9.10966633e-02  5.06992441e-01]\n",
      " [ 4.51318650e-01  8.30965842e-01]\n",
      " [-4.18832912e-01 -8.62310419e-01]\n",
      " [ 2.05523360e-01  1.04105636e+00]\n",
      " [ 3.36700906e-01 -1.04221362e+00]\n",
      " [ 1.04533005e-02 -4.14237061e-02]\n",
      " [-1.55629633e+00 -8.06803447e-01]\n",
      " [-2.74691607e-01  1.09889857e+00]\n",
      " [-7.09262264e-01 -7.50007270e-02]\n",
      " [ 6.55430506e-01  9.62518968e-01]\n",
      " [-8.16397207e-01 -6.33824027e-01]\n",
      " [-3.70168646e-01 -5.65980364e-02]\n",
      " [-3.27442913e-01  4.60134481e-02]\n",
      " [-7.56387751e-01  2.02629469e+00]\n",
      " [-1.48780210e+00  4.10630116e-01]\n",
      " [ 5.58872547e-01 -9.24134815e-01]\n",
      " [ 2.06948762e+00  1.28404295e+00]\n",
      " [-9.77364125e-01  9.40887518e-01]\n",
      " [-4.37054900e-01 -1.44387844e-01]\n",
      " [-3.71413014e-02  8.99323109e-01]\n",
      " [-3.44098048e-01  5.50246505e-01]\n",
      " [-4.93469363e-02  6.88787971e-01]\n",
      " [ 8.24183855e-01 -5.23933324e-01]\n",
      " [-1.52759005e+00  1.99303168e+00]\n",
      " [ 2.60580725e-01 -7.55390170e-01]\n",
      " [ 1.18691515e+00 -2.17489999e-01]\n",
      " [ 1.94835742e-01  1.93782366e+00]\n",
      " [ 8.49129540e-01  5.57149622e-01]\n",
      " [-4.61786578e-01 -2.28525033e-01]\n",
      " [-1.20999646e-02 -2.50939090e+00]\n",
      " [-1.19828471e+00  9.31753460e-01]\n",
      " [ 7.61075788e-01 -6.22359359e-01]\n",
      " [ 3.35375858e-02  1.03721895e+00]\n",
      " [ 8.89318763e-01 -1.26290673e+00]\n",
      " [ 7.98461942e-01 -3.10820068e+00]\n",
      " [ 1.33275523e-01 -8.68889003e-02]\n",
      " [ 1.58091039e+00 -4.65384552e-03]\n",
      " [ 1.04802266e+00  1.03609302e+00]\n",
      " [ 3.95998258e-01  1.01685200e-01]\n",
      " [ 1.45054766e+00  7.72242633e-01]\n",
      " [ 1.95392023e-02 -2.64823496e-01]\n",
      " [ 1.06982913e+00 -8.16474828e-01]\n",
      " [ 1.32722784e+00  1.16734525e+00]\n",
      " [-2.94879564e-01 -5.54156428e-01]\n",
      " [-1.88306386e-01  5.05791037e-01]\n",
      " [ 1.03189186e+00 -2.46618783e+00]\n",
      " [ 1.50016119e+00 -3.50634558e-01]\n",
      " [ 1.99352796e+00  8.24362546e-01]\n",
      " [ 7.11635500e-01  5.12372629e-02]\n",
      " [-1.13618287e+00  7.00443748e-02]\n",
      " [-8.84694334e-01  8.23911128e-01]\n",
      " [ 9.42908204e-01 -2.03928514e-01]\n",
      " [-1.49962060e+00 -2.63853905e+00]\n",
      " [-2.95804225e-01  4.76215537e-01]\n",
      " [ 9.77818429e-02 -1.58094714e+00]\n",
      " [ 1.67470522e+00  7.13739336e-01]\n",
      " [ 1.91800408e-01 -1.27320223e-01]\n",
      " [-7.48535316e-01  5.75531074e-01]\n",
      " [ 5.88450387e-01 -7.85961574e-01]\n",
      " [-4.38658196e-01  3.04242464e-01]\n",
      " [ 1.72524401e+00  1.10285099e-01]\n",
      " [-2.04841049e+00  1.17516711e+00]\n",
      " [ 1.03950116e+00 -1.29349215e+00]\n",
      " [-1.08849426e+00 -1.49985261e+00]\n",
      " [-1.69469572e+00  1.58793403e+00]\n",
      " [-6.09850011e-02 -1.41210118e-01]\n",
      " [-7.69811566e-01 -1.11523582e+00]\n",
      " [-2.19370091e+00  1.98537666e+00]\n",
      " [-2.06878443e+00  2.62096920e-01]\n",
      " [ 1.96579776e-01 -2.40815449e-01]\n",
      " [ 3.88759279e-01 -5.86238651e-01]\n",
      " [ 1.72927013e+00 -7.44503633e-01]\n",
      " [-1.11810164e+00 -3.98900366e-01]\n",
      " [ 1.96427909e-01  4.98665455e-01]\n",
      " [ 5.08774344e-02 -9.33330414e-01]\n",
      " [ 1.16410650e+00  7.13598450e-02]\n",
      " [-1.36705949e+00  4.79477185e-01]\n",
      " [-1.07236672e-01  2.79146141e+00]\n",
      " [ 2.77445608e-01  6.12582235e-01]\n",
      " [-1.02200582e+00  9.58843918e-01]\n",
      " [ 1.78296233e+00  2.98798912e+00]\n",
      " [-1.01579017e+00  1.22741245e-01]\n",
      " [ 5.12144819e-01  5.32175010e-02]\n",
      " [-2.21791391e+00  3.99182789e-02]\n",
      " [ 5.77034004e-01  1.84125232e+00]\n",
      " [-1.15136020e+00  9.25325398e-01]\n",
      " [ 1.59873651e+00  1.49991794e-01]\n",
      " [ 9.78407635e-01 -7.04911288e-02]\n",
      " [-4.16005014e-01  2.79464641e-01]\n",
      " [ 3.28129012e-02 -1.70273587e-02]\n",
      " [ 9.53801697e-01 -9.68282611e-01]\n",
      " [ 6.61261980e-01  1.72928485e+00]\n",
      " [-1.07071376e-01 -8.22147654e-01]\n",
      " [ 2.62065134e-01  2.38307226e-01]\n",
      " [ 6.95972299e-01  8.79048185e-01]\n",
      " [-4.61179293e-01  8.91214822e-01]\n",
      " [-2.88284629e-01  1.57360054e+00]\n",
      " [-2.00031001e+00 -5.46645608e-01]\n",
      " [-9.44338033e-02 -1.40242971e+00]\n",
      " [-6.42697708e-01  7.87632573e-01]\n",
      " [ 4.24762283e-01  1.54671100e+00]\n",
      " [-1.31871342e+00  5.59450684e-01]\n",
      " [ 2.84420302e-01  2.41920268e-01]\n",
      " [-1.08352150e+00 -1.64254084e+00]\n",
      " [ 4.85526525e-01  1.48055511e+00]\n",
      " [ 1.00048573e+00 -3.74558119e-01]\n",
      " [ 1.48628853e+00 -2.11417248e-01]\n",
      " [-1.05781107e+00 -2.26679876e+00]\n",
      " [-7.22271143e-01 -2.58963516e-01]\n",
      " [ 1.00493717e+00  1.15096646e+00]\n",
      " [-4.12225224e-01  6.83700131e-01]\n",
      " [-6.60825689e-02 -1.52643346e+00]\n",
      " [ 9.82700356e-01 -6.49403277e-01]\n",
      " [-3.50106573e-01 -1.23018040e+00]\n",
      " [-5.08958106e-01 -8.73743562e-01]\n",
      " [-5.16700721e-01  2.18537618e-01]\n",
      " [-3.75397977e-02  3.42807188e-01]\n",
      " [ 1.74558926e-01 -1.67287285e+00]\n",
      " [ 1.75584829e-01 -3.46279367e-01]\n",
      " [ 1.43058109e+00  6.80472370e-01]\n",
      " [-3.99156893e-01 -3.16168589e-01]\n",
      " [ 2.05126496e-01  2.74276670e+00]\n",
      " [-9.61970412e-01 -1.41043991e-01]\n",
      " [ 1.05121001e+00  1.06419757e-03]\n",
      " [ 1.46946606e-01  8.52574722e-01]\n",
      " [-2.04848438e+00  4.03322645e-01]\n",
      " [ 7.22113072e-01  1.85797614e+00]\n",
      " [ 1.42402609e+00  2.42981117e-01]\n",
      " [ 7.68676745e-01  6.85106449e-01]\n",
      " [ 4.25721142e-01  6.88547366e-01]\n",
      " [ 9.41554488e-01  2.01890067e-01]\n",
      " [ 2.78974822e-01  4.68960429e-01]\n",
      " [-3.32061522e-01 -1.82320163e+00]\n",
      " [ 8.74173964e-01  2.26727112e-02]\n",
      " [ 1.93147815e+00  2.37127411e-01]\n",
      " [-2.34506960e+00 -7.33367209e-01]\n",
      " [ 4.04116984e-01  1.93166114e+00]\n",
      " [ 1.49652869e+00 -5.84732193e-01]\n",
      " [-9.06419017e-01 -3.33362034e+00]\n",
      " [-3.43043407e-02 -9.96347384e-01]\n",
      " [-7.85260464e-01  4.37018050e-01]\n",
      " [-1.37637275e+00  2.54189407e-01]\n",
      " [ 9.04273954e-01 -1.31237514e+00]\n",
      " [ 1.11394366e+00 -2.13694983e+00]\n",
      " [-6.51361020e-01  1.88412292e+00]\n",
      " [ 5.06132999e-01  1.28081721e-02]\n",
      " [-1.88634113e+00  6.49496424e-01]\n",
      " [ 2.38224564e-01  4.28611378e-01]\n",
      " [-1.20693448e+00  1.53580493e-01]\n",
      " [ 9.30925875e-01  2.53677292e-01]\n",
      " [-5.58254964e-01 -1.47612238e+00]\n",
      " [ 1.64423648e-01  9.12988515e-02]\n",
      " [-1.20930050e+00  1.65184905e+00]\n",
      " [ 4.82655658e-01  2.99178017e-01]\n",
      " [ 8.54667540e-01 -1.31648423e+00]\n",
      " [-9.06259973e-01 -6.79872427e-01]\n",
      " [-6.39130235e-01 -4.97851185e-01]\n",
      " [ 2.32308498e+00 -1.26451926e+00]\n",
      " [-3.42516297e-01  4.25341209e-01]\n",
      " [ 1.67612352e+00  2.30297283e-01]\n",
      " [-1.36376127e+00 -1.15873161e+00]\n",
      " [ 8.93342289e-01  5.79896875e-01]\n",
      " [ 2.61997435e-01  4.69164986e-01]\n",
      " [ 4.42525393e-01 -1.04324174e+00]\n",
      " [-1.46298251e+00  7.86225252e-01]\n",
      " [ 1.12315993e+00 -1.61284617e+00]\n",
      " [-1.00125817e+00 -4.25841811e-01]\n",
      " [-5.82941821e-01 -1.77509642e-01]\n",
      " [-3.55824455e-01 -1.85239910e+00]\n",
      " [-1.81407963e+00  6.41153293e-01]\n",
      " [ 3.55407148e-01 -5.44752301e-01]\n",
      " [ 3.55668832e-01 -1.48425064e+00]\n",
      " [-2.13215431e-01 -5.62762168e-01]\n",
      " [-1.34058262e+00  5.96330977e-01]\n",
      " [ 7.46628858e-01 -1.10426756e+00]\n",
      " [-7.64975182e-01 -1.31440684e+00]\n",
      " [ 1.34333880e+00  1.19177769e+00]\n",
      " [ 2.26967810e+00 -2.41537658e+00]\n",
      " [ 1.65048460e-01  1.52150690e+00]\n",
      " [-1.57331484e+00  1.06930855e+00]\n",
      " [ 7.55437864e-01 -6.50881810e-01]\n",
      " [-1.15589822e+00 -1.99956543e+00]\n",
      " [ 2.16753447e+00  8.14248769e-01]\n",
      " [ 2.73046279e-02 -3.27139849e-01]\n",
      " [-1.02810272e+00  5.95572675e-01]\n",
      " [-5.87122417e-01  7.43791517e-01]\n",
      " [-1.32403345e+00 -2.69678745e-02]\n",
      " [-1.94416325e+00 -2.11979232e-01]\n",
      " [ 5.44109735e-01  8.33607707e-01]\n",
      " [-8.53179867e-03  5.48761364e-02]\n",
      " [-2.05334800e+00  1.15427556e+00]\n",
      " [ 3.93426089e-01 -1.13157345e+00]\n",
      " [-2.21893529e+00  1.97050011e-01]\n",
      " [-6.05511729e-01  3.93028393e-01]\n",
      " [-4.49894369e-01 -1.28972225e+00]\n",
      " [ 7.75272297e-01 -7.18270139e-01]\n",
      " [-1.59229314e+00 -1.54717681e+00]\n",
      " [-1.23637798e+00 -1.48510337e+00]\n",
      " [-5.83981869e-01  1.35210937e-01]\n",
      " [-8.08753502e-01 -5.35549256e-01]\n",
      " [-1.85243382e+00  2.30964261e-01]\n",
      " [ 6.61360350e-01  8.36006617e-01]\n",
      " [ 1.12873706e+00 -8.56814075e-01]\n",
      " [ 3.61483746e-01 -2.16742620e+00]\n",
      " [ 1.23871219e+00 -1.08768425e+00]\n",
      " [-2.30232791e-01  9.34705245e-01]\n",
      " [-7.61057098e-02  1.61239881e+00]\n",
      " [-1.65826910e+00  1.99210368e-01]\n",
      " [-9.84500108e-02 -5.46622627e-01]\n",
      " [ 6.33638277e-02  5.50236588e-01]\n",
      " [ 2.19636504e+00  3.12038789e-01]\n",
      " [-6.88434565e-01  2.12183235e+00]\n",
      " [-5.92507311e-02 -6.57475693e-01]\n",
      " [ 3.74142003e-01  4.97767551e-01]\n",
      " [-1.42135723e+00 -7.39049396e-01]\n",
      " [-7.63620017e-01  1.38229498e+00]\n",
      " [ 3.08135211e-01 -8.68172065e-01]\n",
      " [-3.86199166e-01 -3.08404478e+00]\n",
      " [-1.91658574e-01  5.95265566e-01]\n",
      " [ 4.36563453e-01  1.61327585e+00]\n",
      " [ 1.06181692e+00 -2.14982598e-02]\n",
      " [ 1.67459696e+00  1.20497921e+00]\n",
      " [ 1.24686130e+00 -8.18117434e-01]\n",
      " [ 8.96105006e-01  2.07311532e-01]\n",
      " [-1.92862187e+00 -6.56134137e-01]\n",
      " [-1.15374013e+00 -2.06961953e+00]\n",
      " [-1.60645558e+00  2.27971745e-01]\n",
      " [ 9.89815840e-01 -4.74053144e-01]\n",
      " [-1.53521594e+00  1.97734998e+00]\n",
      " [-6.51183789e-02 -1.24649510e+00]\n",
      " [-9.36266062e-01  4.38425145e-01]\n",
      " [-1.12932395e+00 -8.66839909e-02]\n",
      " [-1.03903010e+00 -4.16012061e-01]\n",
      " [-5.07082275e-01 -8.03725371e-01]\n",
      " [-8.06039879e-01 -7.20923302e-01]\n",
      " [-9.64777700e-01 -4.73773601e-01]\n",
      " [-1.40195662e+00 -6.28047090e-01]\n",
      " [-5.77248817e-01 -2.35327526e+00]\n",
      " [ 2.17048561e+00  6.99376360e-01]\n",
      " [ 8.40185229e-02  2.50280929e-01]\n",
      " [-3.54530423e-01  5.64404485e-01]\n",
      " [-1.14519928e-01 -2.88940673e-01]\n",
      " [-9.45020573e-01  9.44518385e-01]\n",
      " [-6.97841265e-01  6.13232302e-01]\n",
      " [ 6.70957425e-01  1.13695061e+00]\n",
      " [-3.26072468e-01  4.94567682e-01]\n",
      " [-4.76767874e-01 -4.72920015e-01]\n",
      " [ 6.71364433e-01 -6.85066501e-03]\n",
      " [ 6.67888767e-01  2.03710918e+00]\n",
      " [ 3.65883246e-03 -1.20418540e+00]\n",
      " [ 3.63396214e-01  4.27370671e-01]\n",
      " [ 1.34184134e+00  2.02719995e-01]\n",
      " [ 1.38855449e+00 -2.28842340e+00]\n",
      " [ 1.24810728e-01  1.57609142e+00]\n",
      " [-1.06434204e+00  1.02710927e-02]\n",
      " [ 5.91724448e-01 -1.72310005e-01]\n",
      " [ 6.97485518e-01 -1.65757410e+00]\n",
      " [-6.23025313e-01  1.57798160e-01]\n",
      " [ 5.61540414e-01 -8.76174450e-01]\n",
      " [ 9.32739565e-01 -2.39647067e-01]\n",
      " [-1.43137725e+00 -5.60863980e-01]\n",
      " [ 7.37798155e-01 -2.76744753e-01]\n",
      " [ 1.45062307e+00 -1.69852912e-02]\n",
      " [-1.34183580e-01  5.78670770e-01]\n",
      " [ 1.33247233e-01 -1.51020595e+00]\n",
      " [ 1.54170185e+00  6.42427518e-01]\n",
      " [ 1.68644996e+00 -2.17139580e-01]\n",
      " [-1.60603781e+00 -1.56183279e+00]\n",
      " [ 4.14900976e-01  9.25294764e-01]\n",
      " [-1.21900997e+00 -3.90997454e-01]\n",
      " [ 6.49142194e-01 -4.96793336e-01]\n",
      " [ 3.04881848e-01 -3.23694699e-01]\n",
      " [-3.20622852e-01  1.15795166e+00]\n",
      " [ 1.68066974e-01  2.83617227e-01]\n",
      " [ 8.59796281e-02  1.29355364e-01]\n",
      " [-4.89824841e-01  2.63471940e-01]\n",
      " [ 9.53982850e-01 -1.95805396e+00]\n",
      " [ 1.50693586e-01  1.63938619e+00]\n",
      " [-6.06534454e-01  7.77144954e-01]\n",
      " [-5.03386277e-01  4.44954020e-01]\n",
      " [-1.19492987e+00  4.93920500e-01]\n",
      " [-1.09656473e+00  7.93547681e-02]\n",
      " [-1.80420412e+00 -1.61494812e+00]\n",
      " [-1.09658969e+00 -1.16369995e+00]\n",
      " [ 3.61997751e+00  6.53917730e-01]\n",
      " [ 5.89874618e-01 -2.08986206e-01]\n",
      " [ 2.81448426e+00  4.93278216e-01]\n",
      " [ 2.67664845e-01 -1.35860340e+00]\n",
      " [ 9.10539274e-01 -2.05119490e-01]\n",
      " [-1.27781652e+00 -6.70456736e-01]\n",
      " [-6.06676680e-01 -1.24508778e+00]\n",
      " [ 1.95649111e+00 -7.04058058e-01]\n",
      " [ 1.84008863e+00  1.30206522e+00]\n",
      " [ 3.23919292e-02  4.84661116e-01]\n",
      " [ 1.72086398e+00 -7.33793584e-01]\n",
      " [ 1.97896757e-01 -1.46804536e+00]\n",
      " [ 3.93408527e-01 -5.40999332e-01]\n",
      " [ 8.79878282e-02 -3.70716669e-01]\n",
      " [-2.06714324e-01 -2.39175800e-01]\n",
      " [ 8.71530329e-01  5.62024786e-01]\n",
      " [ 4.08459663e-01  3.89022016e-01]\n",
      " [ 7.01644005e-01  5.51528509e-01]\n",
      " [ 2.08397045e-01 -2.96361268e-02]\n",
      " [-8.08129631e-01  6.04720113e-01]\n",
      " [-1.74930732e+00 -1.51012281e+00]\n",
      " [ 6.86311365e-02 -6.72324499e-01]\n",
      " [ 1.02604443e+00 -7.65039819e-01]\n",
      " [-9.03611107e-01  1.11753183e+00]\n",
      " [-1.31125773e-01  4.00650769e-02]\n",
      " [ 2.96000167e-01 -1.99058671e-01]\n",
      " [ 1.07017496e+00  4.77597931e-01]\n",
      " [ 4.85742926e-01 -1.51604324e+00]\n",
      " [-5.47078202e-01  1.64925907e+00]\n",
      " [ 1.20893717e+00  8.37384946e-01]\n",
      " [ 4.30053831e-01  6.55248478e-01]\n",
      " [ 6.98260689e-02  6.31639476e-01]\n",
      " [ 8.02314500e-01 -5.26575108e-01]\n",
      " [-1.05208679e+00 -7.66710918e-01]\n",
      " [ 1.32663052e+00  1.51518686e-01]\n",
      " [-1.12221237e+00 -1.27036917e+00]\n",
      " [-2.20087112e+00 -5.21074566e-01]\n",
      " [-1.18093960e+00 -2.71208985e-01]\n",
      " [ 3.05442874e-01  2.37174873e-01]\n",
      " [ 5.89304757e-01  5.50208936e-01]\n",
      " [-1.94730891e+00 -6.60783092e-03]\n",
      " [-2.09927529e+00 -6.35417444e-01]\n",
      " [-2.16295935e+00 -2.26526554e-01]\n",
      " [ 4.64619183e-01 -5.37592750e-01]\n",
      " [ 9.99713438e-02  1.80282241e+00]\n",
      " [-5.69711992e-01 -2.63677549e-01]\n",
      " [ 6.53489334e-01 -2.84417996e-01]\n",
      " [-1.52918304e+00  4.44867455e-01]\n",
      " [ 2.07022962e+00  1.45505367e+00]\n",
      " [-7.02071644e-01 -3.96429937e-01]\n",
      " [-5.68947921e-01 -9.61951632e-01]]\n"
     ]
    }
   ],
   "source": [
    "a = np.random.randn(400,2)\n",
    "print(a)"
   ]
  },
  {
   "cell_type": "code",
   "execution_count": 70,
   "metadata": {},
   "outputs": [
    {
     "name": "stdout",
     "output_type": "stream",
     "text": [
      "[ 0.01276784 -0.02937198] (2,)\n"
     ]
    }
   ],
   "source": [
    "\n",
    "m = a.mean(0)\n",
    "print (m, m.shape)"
   ]
  },
  {
   "cell_type": "code",
   "execution_count": 71,
   "metadata": {},
   "outputs": [
    {
     "data": {
      "image/png": "[encoded data removed]",
      "text/plain": [
       "<Figure size 640x480 with 1 Axes>"
      ]
     },
     "metadata": {},
     "output_type": "display_data"
    }
   ],
   "source": [
    "plt.plot(a[:,0], a[:,1], 'o', markersize=5, alpha=0.50)\n",
    "plt.plot(m[0], m[1], 'ro', markersize=10)\n",
    "plt.show()"
   ]
  },
  {
   "cell_type": "markdown",
   "metadata": {},
   "source": [
    "### Outras Operações com Arrays"
   ]
  },
  {
   "cell_type": "code",
   "execution_count": 74,
   "metadata": {},
   "outputs": [
    {
     "name": "stdout",
     "output_type": "stream",
     "text": [
      "Help on function diag in module numpy:\n",
      "\n",
      "diag(v, k=0)\n",
      "    Extract a diagonal or construct a diagonal array.\n",
      "    \n",
      "    See the more detailed documentation for ``numpy.diagonal`` if you use this\n",
      "    function to extract a diagonal and wish to write to the resulting array;\n",
      "    whether it returns a copy or a view depends on what version of numpy you\n",
      "    are using.\n",
      "    \n",
      "    Parameters\n",
      "    ----------\n",
      "    v : array_like\n",
      "        If `v` is a 2-D array, return a copy of its `k`-th diagonal.\n",
      "        If `v` is a 1-D array, return a 2-D array with `v` on the `k`-th\n",
      "        diagonal.\n",
      "    k : int, optional\n",
      "        Diagonal in question. The default is 0. Use `k>0` for diagonals\n",
      "        above the main diagonal, and `k<0` for diagonals below the main\n",
      "        diagonal.\n",
      "    \n",
      "    Returns\n",
      "    -------\n",
      "    out : ndarray\n",
      "        The extracted diagonal or constructed diagonal array.\n",
      "    \n",
      "    See Also\n",
      "    --------\n",
      "    diagonal : Return specified diagonals.\n",
      "    diagflat : Create a 2-D array with the flattened input as a diagonal.\n",
      "    trace : Sum along diagonals.\n",
      "    triu : Upper triangle of an array.\n",
      "    tril : Lower triangle of an array.\n",
      "    \n",
      "    Examples\n",
      "    --------\n",
      "    >>> x = np.arange(9).reshape((3,3))\n",
      "    >>> x\n",
      "    array([[0, 1, 2],\n",
      "           [3, 4, 5],\n",
      "           [6, 7, 8]])\n",
      "    \n",
      "    >>> np.diag(x)\n",
      "    array([0, 4, 8])\n",
      "    >>> np.diag(x, k=1)\n",
      "    array([1, 5])\n",
      "    >>> np.diag(x, k=-1)\n",
      "    array([3, 7])\n",
      "    \n",
      "    >>> np.diag(np.diag(x))\n",
      "    array([[0, 0, 0],\n",
      "           [0, 4, 0],\n",
      "           [0, 0, 8]])\n",
      "\n"
     ]
    }
   ],
   "source": [
    "help(np.diag)"
   ]
  },
  {
   "cell_type": "code",
   "execution_count": 84,
   "metadata": {},
   "outputs": [],
   "source": [
    "a = np.diag(np.arange(3))"
   ]
  },
  {
   "cell_type": "code",
   "execution_count": 85,
   "metadata": {},
   "outputs": [
    {
     "name": "stdout",
     "output_type": "stream",
     "text": [
      "[[0 0 0]\n",
      " [0 1 0]\n",
      " [0 0 2]]\n"
     ]
    }
   ],
   "source": [
    "print(a)"
   ]
  },
  {
   "cell_type": "code",
   "execution_count": 86,
   "metadata": {},
   "outputs": [
    {
     "data": {
      "text/plain": [
       "1"
      ]
     },
     "execution_count": 86,
     "metadata": {},
     "output_type": "execute_result"
    }
   ],
   "source": [
    "a[1, 1]"
   ]
  },
  {
   "cell_type": "code",
   "execution_count": 87,
   "metadata": {},
   "outputs": [
    {
     "data": {
      "text/plain": [
       "array([0, 1, 0])"
      ]
     },
     "execution_count": 87,
     "metadata": {},
     "output_type": "execute_result"
    }
   ],
   "source": [
    "a[1]"
   ]
  },
  {
   "cell_type": "code",
   "execution_count": 88,
   "metadata": {},
   "outputs": [],
   "source": [
    "b = np.arange(10)"
   ]
  },
  {
   "cell_type": "code",
   "execution_count": 93,
   "metadata": {},
   "outputs": [
    {
     "data": {
      "text/plain": [
       "array([], dtype=int64)"
      ]
     },
     "execution_count": 93,
     "metadata": {},
     "output_type": "execute_result"
    }
   ],
   "source": [
    "b"
   ]
  },
  {
   "cell_type": "code",
   "execution_count": 94,
   "metadata": {},
   "outputs": [
    {
     "data": {
      "text/plain": [
       "array([], dtype=int64)"
      ]
     },
     "execution_count": 94,
     "metadata": {},
     "output_type": "execute_result"
    }
   ],
   "source": [
    "# [start:end:step]\n",
    "b[2:9:3] "
   ]
  },
  {
   "cell_type": "code",
   "execution_count": 140,
   "metadata": {},
   "outputs": [
    {
     "data": {
      "text/plain": [
       "array([False,  True, False,  True])"
      ]
     },
     "execution_count": 140,
     "metadata": {},
     "output_type": "execute_result"
    }
   ],
   "source": [
    "# Comparação\n",
    "a = np.array([1, 2, 3, 4])\n",
    "b = np.array([4, 2, 2, 4])\n",
    "a == b"
   ]
  },
  {
   "cell_type": "code",
   "execution_count": 141,
   "metadata": {},
   "outputs": [
    {
     "data": {
      "text/plain": [
       "False"
      ]
     },
     "execution_count": 141,
     "metadata": {},
     "output_type": "execute_result"
    }
   ],
   "source": [
    "np.array_equal(a, b)"
   ]
  },
  {
   "cell_type": "code",
   "execution_count": 142,
   "metadata": {},
   "outputs": [
    {
     "data": {
      "text/plain": [
       "1"
      ]
     },
     "execution_count": 142,
     "metadata": {},
     "output_type": "execute_result"
    }
   ],
   "source": [
    "a.min()"
   ]
  },
  {
   "cell_type": "code",
   "execution_count": 143,
   "metadata": {},
   "outputs": [
    {
     "data": {
      "text/plain": [
       "4"
      ]
     },
     "execution_count": 143,
     "metadata": {},
     "output_type": "execute_result"
    }
   ],
   "source": [
    "a.max()"
   ]
  },
  {
   "cell_type": "code",
   "execution_count": 144,
   "metadata": {},
   "outputs": [
    {
     "data": {
      "text/plain": [
       "array([2.5, 3.5, 4.5])"
      ]
     },
     "execution_count": 144,
     "metadata": {},
     "output_type": "execute_result"
    }
   ],
   "source": [
    "# Somando um elemento ao array\n",
    "np.array([1, 2, 3]) + 1.5"
   ]
  },
  {
   "cell_type": "code",
   "execution_count": 145,
   "metadata": {},
   "outputs": [],
   "source": [
    "#Usando o método around\n",
    "a = np.array([1.2, 1.5, 1.6, 2.5, 3.5, 4.5])"
   ]
  },
  {
   "cell_type": "code",
   "execution_count": 146,
   "metadata": {},
   "outputs": [],
   "source": [
    "b = np.around(a)"
   ]
  },
  {
   "cell_type": "code",
   "execution_count": 147,
   "metadata": {},
   "outputs": [
    {
     "data": {
      "text/plain": [
       "array([1., 2., 2., 2., 4., 4.])"
      ]
     },
     "execution_count": 147,
     "metadata": {},
     "output_type": "execute_result"
    }
   ],
   "source": [
    "b"
   ]
  },
  {
   "cell_type": "code",
   "execution_count": 148,
   "metadata": {},
   "outputs": [],
   "source": [
    "# Criando um array\n",
    "B = np.array([1, 2, 3, 4])"
   ]
  },
  {
   "cell_type": "code",
   "execution_count": 149,
   "metadata": {},
   "outputs": [
    {
     "data": {
      "text/plain": [
       "array([1, 2, 3, 4])"
      ]
     },
     "execution_count": 149,
     "metadata": {},
     "output_type": "execute_result"
    }
   ],
   "source": [
    "B"
   ]
  },
  {
   "cell_type": "code",
   "execution_count": 150,
   "metadata": {},
   "outputs": [],
   "source": [
    "# Copiando um array\n",
    "C = B.flatten()"
   ]
  },
  {
   "cell_type": "code",
   "execution_count": 151,
   "metadata": {},
   "outputs": [
    {
     "data": {
      "text/plain": [
       "array([1, 2, 3, 4])"
      ]
     },
     "execution_count": 151,
     "metadata": {},
     "output_type": "execute_result"
    }
   ],
   "source": [
    "C"
   ]
  },
  {
   "cell_type": "code",
   "execution_count": 152,
   "metadata": {},
   "outputs": [],
   "source": [
    "# Criando um array\n",
    "v = np.array([1, 2, 3])"
   ]
  },
  {
   "cell_type": "code",
   "execution_count": 153,
   "metadata": {},
   "outputs": [
    {
     "data": {
      "text/plain": [
       "(array([[1],\n",
       "        [2],\n",
       "        [3]]),\n",
       " (3, 1),\n",
       " (1, 3))"
      ]
     },
     "execution_count": 153,
     "metadata": {},
     "output_type": "execute_result"
    }
   ],
   "source": [
    "# Adcionando uma dimensão ao array\n",
    "v[:, np.newaxis], v[:,np.newaxis].shape, v[np.newaxis,:].shape"
   ]
  },
  {
   "cell_type": "code",
   "execution_count": 154,
   "metadata": {},
   "outputs": [
    {
     "data": {
      "text/plain": [
       "array([1, 1, 1, 2, 2, 2, 3, 3, 3])"
      ]
     },
     "execution_count": 154,
     "metadata": {},
     "output_type": "execute_result"
    }
   ],
   "source": [
    "# Repetindo os elementos de um array\n",
    "np.repeat(v, 3)"
   ]
  },
  {
   "cell_type": "code",
   "execution_count": 155,
   "metadata": {},
   "outputs": [
    {
     "data": {
      "text/plain": [
       "array([1, 2, 3, 1, 2, 3, 1, 2, 3])"
      ]
     },
     "execution_count": 155,
     "metadata": {},
     "output_type": "execute_result"
    }
   ],
   "source": [
    "# Repetindo os elementos de um array\n",
    "np.tile(v, 3)"
   ]
  },
  {
   "cell_type": "code",
   "execution_count": 156,
   "metadata": {},
   "outputs": [],
   "source": [
    "# Criando um array\n",
    "w = np.array([5, 6])"
   ]
  },
  {
   "cell_type": "code",
   "execution_count": 157,
   "metadata": {},
   "outputs": [
    {
     "data": {
      "text/plain": [
       "array([1, 2, 3, 5, 6])"
      ]
     },
     "execution_count": 157,
     "metadata": {},
     "output_type": "execute_result"
    }
   ],
   "source": [
    "# Concatenando\n",
    "np.concatenate((v, w), axis=0)"
   ]
  },
  {
   "cell_type": "code",
   "execution_count": 158,
   "metadata": {},
   "outputs": [],
   "source": [
    "# Copiando arrays\n",
    "r = np.copy(v)"
   ]
  },
  {
   "cell_type": "code",
   "execution_count": 159,
   "metadata": {},
   "outputs": [
    {
     "data": {
      "text/plain": [
       "array([1, 2, 3])"
      ]
     },
     "execution_count": 159,
     "metadata": {},
     "output_type": "execute_result"
    }
   ],
   "source": [
    "r"
   ]
  }
 ],
 "metadata": {
  "kernelspec": {
   "display_name": "Python 3.9.13 ('base')",
   "language": "python",
   "name": "python3"
  },
  "language_info": {
   "codemirror_mode": {
    "name": "ipython",
    "version": 3
   },
   "file_extension": ".py",
   "mimetype": "text/x-python",
   "name": "python",
   "nbconvert_exporter": "python",
   "pygments_lexer": "ipython3",
   "version": "3.9.13"
  },
  "orig_nbformat": 4,
  "vscode": {
   "interpreter": {
    "hash": "6799a9838c74b2f050301133963fac3ce89bb7e0f4bda8ff27cb161c2b80041b"
   }
  }
 },
 "nbformat": 4,
 "nbformat_minor": 2
}
